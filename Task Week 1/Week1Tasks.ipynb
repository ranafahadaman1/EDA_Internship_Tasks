{
 "cells": [
  {
   "cell_type": "markdown",
   "id": "64c7f5f4-1661-4be8-9ef0-6088f214bd51",
   "metadata": {},
   "source": [
    "<center>\n",
    "<h1 style=\"font-family: sans-serif\">Articicial Intelligence Community Pakistan</h1>\n",
    "<h2 style=\"font-family: sans-serif\">EDA Internship</h2>\n",
    "<h3 style=\"font-family: sans-serif\">Task Week 1</h3>\n",
    "<h4 style=\"font-family: sans-serif\">Rana Fahad Aman</h4>\n",
    "</center>"
   ]
  },
  {
   "cell_type": "code",
   "execution_count": 1,
   "id": "4da7fa2e-6760-4c4e-8329-239fe52c3e30",
   "metadata": {},
   "outputs": [
    {
     "data": {
      "text/plain": [
       "'\\nImporting the \"numpy\" library\\n'"
      ]
     },
     "execution_count": 1,
     "metadata": {},
     "output_type": "execute_result"
    }
   ],
   "source": [
    "\"\"\"\n",
    "Importing the \"numpy\" library\n",
    "\"\"\""
   ]
  },
  {
   "cell_type": "code",
   "execution_count": 2,
   "id": "a13d462f-6a61-4de3-8c3d-c2539cd0f197",
   "metadata": {},
   "outputs": [],
   "source": [
    "import numpy as np"
   ]
  },
  {
   "cell_type": "code",
   "execution_count": 3,
   "id": "458f40ac-2998-43e2-849f-e2b5ae8f4501",
   "metadata": {},
   "outputs": [
    {
     "data": {
      "text/plain": [
       "'\\n-->Write a NumPy program to create an array of all even integers from 30 to 70.\\n'"
      ]
     },
     "execution_count": 3,
     "metadata": {},
     "output_type": "execute_result"
    }
   ],
   "source": [
    "\"\"\"\n",
    "-->Write a NumPy program to create an array of all even integers from 30 to 70.\n",
    "\"\"\""
   ]
  },
  {
   "cell_type": "code",
   "execution_count": 4,
   "id": "dd3f42d8-b998-4b96-9ea6-af3d9371431d",
   "metadata": {},
   "outputs": [
    {
     "name": "stdout",
     "output_type": "stream",
     "text": [
      "Array of even integers from 30 to 70: [30 32 34 36 38 40 42 44 46 48 50 52 54 56 58 60 62 64 66 68 70]\n"
     ]
    }
   ],
   "source": [
    "evenArray = np.arange(30, 71, 2)\n",
    "\n",
    "# np.arange(30,71,2) creates an array starting from 30 up to (but not including) 71 with a step size of 2.\n",
    "\n",
    "# Print the resulting array\n",
    "print(f\"Array of even integers from 30 to 70: {evenArray}\")"
   ]
  },
  {
   "cell_type": "code",
   "execution_count": 5,
   "id": "1bf840a2-4d89-4a2e-b73c-b49b839f5062",
   "metadata": {},
   "outputs": [
    {
     "data": {
      "text/plain": [
       "'\\n-->Write a NumPy program to generate an array of 15 random numbers from a standard normal distribution.\\n'"
      ]
     },
     "execution_count": 5,
     "metadata": {},
     "output_type": "execute_result"
    }
   ],
   "source": [
    "\"\"\"\n",
    "-->Write a NumPy program to generate an array of 15 random numbers from a standard normal distribution.\n",
    "\"\"\""
   ]
  },
  {
   "cell_type": "code",
   "execution_count": 6,
   "id": "0d7738ab-d15c-4585-8816-fdeb23a670a3",
   "metadata": {},
   "outputs": [
    {
     "name": "stdout",
     "output_type": "stream",
     "text": [
      "Array of 15 random numbers from a standard normal distribution:\n",
      "[ 0.26752097  1.97521705 -0.21104346  2.3168579  -0.03444185  0.5118252\n",
      " -1.1674183   0.40831897  0.40098155 -0.25991507 -0.03409906 -0.86965196\n",
      "  0.91691069  2.12140833  0.04334871]\n",
      "Mean: 0.0\n",
      "Standard Deviation: 1.0\n"
     ]
    }
   ],
   "source": [
    "randomNumbers = np.random.randn(15)\n",
    "\n",
    "# Print the resulting array\n",
    "print(\"Array of 15 random numbers from a standard normal distribution:\")\n",
    "print(randomNumbers)\n",
    "\n",
    "mean = np.mean(randomNumbers)\n",
    "std = np.std(randomNumbers)\n",
    "print(f\"Mean: {round(mean,0)}\\nStandard Deviation: {round(std,0)}\")"
   ]
  },
  {
   "cell_type": "code",
   "execution_count": 7,
   "id": "ddfcd44c-10f3-46fa-8bb2-b4d4ba3c41c4",
   "metadata": {},
   "outputs": [
    {
     "data": {
      "text/plain": [
       "'\\n-->How to compute the cross-product of two matrices in NumPy?\\n'"
      ]
     },
     "execution_count": 7,
     "metadata": {},
     "output_type": "execute_result"
    }
   ],
   "source": [
    "\"\"\"\n",
    "-->How to compute the cross-product of two matrices in NumPy?\n",
    "\"\"\""
   ]
  },
  {
   "cell_type": "code",
   "execution_count": 8,
   "id": "c11a20c3-86dd-4fb5-beb9-d4d7bd2ec1d2",
   "metadata": {},
   "outputs": [
    {
     "name": "stdout",
     "output_type": "stream",
     "text": [
      "Cross-product of the two matrices: [-5 -5]\n"
     ]
    }
   ],
   "source": [
    "# Define two matrices\n",
    "matrix1 = np.array([[1,2],\n",
    "                    [3,4]])\n",
    "\n",
    "matrix2 = np.array([[4,3],\n",
    "                    [2,1]])\n",
    "                  \n",
    "# Compute the cross-product of the two matrices\n",
    "crossProduct = np.cross(matrix1, matrix2)\n",
    "\n",
    "# Print the result\n",
    "print(f\"Cross-product of the two matrices: {crossProduct}\")"
   ]
  },
  {
   "cell_type": "code",
   "execution_count": 9,
   "id": "f9ee8698-665b-4882-8877-938ab690e1c2",
   "metadata": {},
   "outputs": [
    {
     "data": {
      "text/plain": [
       "'\\n-->How to compute the determinant of an array using NumPy?\\n'"
      ]
     },
     "execution_count": 9,
     "metadata": {},
     "output_type": "execute_result"
    }
   ],
   "source": [
    "\"\"\"\n",
    "-->How to compute the determinant of an array using NumPy?\n",
    "\"\"\""
   ]
  },
  {
   "cell_type": "code",
   "execution_count": 10,
   "id": "3a0db93b-8198-43f9-a7a1-d6a30b1b6f20",
   "metadata": {},
   "outputs": [
    {
     "name": "stdout",
     "output_type": "stream",
     "text": [
      "Determinant of the matrix is: -2.0\n"
     ]
    }
   ],
   "source": [
    "# Define a matrix\n",
    "matrix1 = np.array([[1,2],\n",
    "                    [3,4]])\n",
    "matrixDeterminant = np.linalg.det(matrix1)   # Use the linalg.det() function from the numpy library to calculate the determinant of a matrix\n",
    "print(f\"Determinant of the matrix is: {round(matrixDeterminant,4)}\")"
   ]
  },
  {
   "cell_type": "code",
   "execution_count": 11,
   "id": "b8b1b098-061d-4e85-aba0-3b7723ece8ae",
   "metadata": {},
   "outputs": [
    {
     "data": {
      "text/plain": [
       "'\\n-->How to create a 3x3x3 array with random values using NumPy?\\n'"
      ]
     },
     "execution_count": 11,
     "metadata": {},
     "output_type": "execute_result"
    }
   ],
   "source": [
    "\"\"\"\n",
    "-->How to create a 3x3x3 array with random values using NumPy?\n",
    "\"\"\""
   ]
  },
  {
   "cell_type": "code",
   "execution_count": 12,
   "id": "06572966-895f-48db-8b2c-9fd2386e9a68",
   "metadata": {},
   "outputs": [
    {
     "name": "stdout",
     "output_type": "stream",
     "text": [
      "3x3x3 array with random values:\n",
      "[[[49 89 38]\n",
      "  [66 22 48]\n",
      "  [31 62  9]]\n",
      "\n",
      " [[53 22  6]\n",
      "  [12 31 94]\n",
      "  [62 17 21]]\n",
      "\n",
      " [[46 57 54]\n",
      "  [24 61 16]\n",
      "  [62 42 56]]]\n"
     ]
    }
   ],
   "source": [
    "# Create a 3x3x3 array with random values from a standard normal distribution\n",
    "random_3x3x3_Array = np.random.randint(low = 1, high = 100, size=(3, 3, 3))   # The low and high here are the lower and upper\n",
    "                                                                              # limits for the random values\n",
    "\n",
    "# Print the resulting array\n",
    "print(\"3x3x3 array with random values:\")\n",
    "print(random_3x3x3_Array)"
   ]
  },
  {
   "cell_type": "code",
   "execution_count": 13,
   "id": "8afc4643-6b6e-4893-98ce-798b8fede413",
   "metadata": {},
   "outputs": [
    {
     "data": {
      "text/plain": [
       "'\\n-->How to create a 5x5 array with random values and find the minimum and maximum values using NumPy?\\n'"
      ]
     },
     "execution_count": 13,
     "metadata": {},
     "output_type": "execute_result"
    }
   ],
   "source": [
    "\"\"\"\n",
    "-->How to create a 5x5 array with random values and find the minimum and maximum values using NumPy?\n",
    "\"\"\""
   ]
  },
  {
   "cell_type": "code",
   "execution_count": 14,
   "id": "b0967eb5-fea1-4aad-8eef-6c733822eeaa",
   "metadata": {},
   "outputs": [
    {
     "name": "stdout",
     "output_type": "stream",
     "text": [
      "5x5 array with random values:\n",
      "[[ 3 99 88 25 49]\n",
      " [96 93 53 36 17]\n",
      " [11 53 85 89 91]\n",
      " [48 23 42 95 57]\n",
      " [38 17 28 13 85]]\n",
      "Minimum value: 3\n",
      "Maximum value: 99\n"
     ]
    }
   ],
   "source": [
    "# Create a 5x5 array with random values just like in above task\n",
    "random_5x5_Array = np.random.randint(low = 1, high = 100, size = (5, 5))\n",
    "\n",
    "# Print the array\n",
    "print(\"5x5 array with random values:\")\n",
    "print(random_5x5_Array)\n",
    "\n",
    "# Find the minimum and maximum values\n",
    "minValue = np.min(random_5x5_Array)\n",
    "maxValue = np.max(random_5x5_Array)\n",
    "\n",
    "# Print the minimum and maximum values\n",
    "print(\"Minimum value:\", minValue)\n",
    "print(\"Maximum value:\", maxValue)"
   ]
  },
  {
   "cell_type": "code",
   "execution_count": 15,
   "id": "7b48bbaf-dd59-4587-9e3f-adc3d34cd9e9",
   "metadata": {},
   "outputs": [
    {
     "data": {
      "text/plain": [
       "'\\n-->How to compute the mean, standard deviation, and variance of a given array along the second axis in NumPy?\\n'"
      ]
     },
     "execution_count": 15,
     "metadata": {},
     "output_type": "execute_result"
    }
   ],
   "source": [
    "\"\"\"\n",
    "-->How to compute the mean, standard deviation, and variance of a given array along the second axis in NumPy?\n",
    "\"\"\""
   ]
  },
  {
   "cell_type": "code",
   "execution_count": 16,
   "id": "623c0471-782c-4d1c-aea0-e5f9cd677451",
   "metadata": {},
   "outputs": [
    {
     "name": "stdout",
     "output_type": "stream",
     "text": [
      "Mean along the second axis: [4. 5. 6.]\n",
      "Standard deviation along the second axis: [2.44948974 2.44948974 2.44948974]\n",
      "Variance along the second axis: [6. 6. 6.]\n"
     ]
    }
   ],
   "source": [
    "# Create a sample array\n",
    "sampleArray = np.array([[1, 2, 3],\n",
    "                        [4, 5, 6],\n",
    "                        [7, 8, 9]])\n",
    "\n",
    "# Compute the mean, standard deviation, and variance along the second axis (axis=1)\n",
    "# We can use the np.mean(), np.std() and np.var() to calculate the Mean, Standard Deviation, and Variance respectively.\n",
    "meanValues = np.mean(sampleArray, axis=0)\n",
    "stdDeviationValues = np.std(sampleArray, axis=0)\n",
    "varianceValues = np.var(sampleArray, axis=0)\n",
    "\n",
    "# Print the results\n",
    "print(f\"Mean along the second axis: {meanValues}\")\n",
    "print(f\"Standard deviation along the second axis: {stdDeviationValues}\")\n",
    "print(f\"Variance along the second axis: {varianceValues}\")"
   ]
  }
 ],
 "metadata": {
  "kernelspec": {
   "display_name": "Python 3 (ipykernel)",
   "language": "python",
   "name": "python3"
  },
  "language_info": {
   "codemirror_mode": {
    "name": "ipython",
    "version": 3
   },
   "file_extension": ".py",
   "mimetype": "text/x-python",
   "name": "python",
   "nbconvert_exporter": "python",
   "pygments_lexer": "ipython3",
   "version": "3.12.1"
  }
 },
 "nbformat": 4,
 "nbformat_minor": 5
}
