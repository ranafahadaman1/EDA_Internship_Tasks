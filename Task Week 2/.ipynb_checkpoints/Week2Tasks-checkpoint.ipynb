{
 "cells": [
  {
   "cell_type": "markdown",
   "id": "66c56563-ef13-4568-8eee-1394f60c7e85",
   "metadata": {},
   "source": [
    "<center>\n",
    "<h1 style=\"font-family: sans-serif\">Articicial Intelligence Community Pakistan</h1>\n",
    "<h2 style=\"font-family: sans-serif\">EDA Internship</h3>\n",
    "<h3 style=\"font-family: sans-serif\">Task Week 2</h4>\n",
    "<h4 style=\"font-family: sans-serif\">Rana Fahad Aman</h4>\n",
    "</center>"
   ]
  },
  {
   "cell_type": "markdown",
   "id": "e1a7fa6c-e90d-44dc-bd42-966fda9ae061",
   "metadata": {},
   "source": [
    "### Import Pandas library"
   ]
  },
  {
   "cell_type": "code",
   "execution_count": 2,
   "id": "d1fc5c5b-2596-4b72-bc74-ba4a5a2fca45",
   "metadata": {},
   "outputs": [],
   "source": [
    "import pandas as pd"
   ]
  },
  {
   "cell_type": "markdown",
   "id": "ce6997bb-7153-46dc-b140-cbffab9208f1",
   "metadata": {},
   "source": [
    "#### (Q1) Write pandas series code to get following output without using dictionary"
   ]
  },
  {
   "cell_type": "code",
   "execution_count": 3,
   "id": "8d5f809e-e08c-4b5f-abba-197cb6b3e87c",
   "metadata": {},
   "outputs": [
    {
     "name": "stdout",
     "output_type": "stream",
     "text": [
      "a    1\n",
      "x    4\n",
      "c    9\n",
      "2    6\n",
      "e    7\n",
      "dtype: int64\n"
     ]
    }
   ],
   "source": [
    "seriesDataQ1 = pd.Series([1, 4, 9, 6, 7], index=['a', 'x', 'c', '2', 'e'])\n",
    "print(seriesDataQ1)"
   ]
  },
  {
   "cell_type": "markdown",
   "id": "69e4ba2c-0eee-4d15-b2da-b418168310a0",
   "metadata": {},
   "source": [
    "#### (Q2) Writer pandas series code to get following output using dictionary:"
   ]
  },
  {
   "cell_type": "code",
   "execution_count": 4,
   "id": "158486f8-7ad4-478b-958e-73252c60f1aa",
   "metadata": {},
   "outputs": [
    {
     "name": "stdout",
     "output_type": "stream",
     "text": [
      "Bilal     42\n",
      "Ayesha    38\n",
      "Hadia     39\n",
      "dtype: int64\n"
     ]
    }
   ],
   "source": [
    "seriesDataQ2 = pd.Series([42, 38, 39], index=['Bilal', 'Ayesha', 'Hadia'])\n",
    "print(seriesDataQ2)"
   ]
  },
  {
   "cell_type": "markdown",
   "id": "f3cfa21c-f005-4514-bba9-fbedd88bf21c",
   "metadata": {},
   "source": [
    "#### (Q3) Write pandas dataframe code to get following output using python dictionary"
   ]
  },
  {
   "cell_type": "code",
   "execution_count": 5,
   "id": "37db06ec-3c97-413b-8e9a-48fc388dbb84",
   "metadata": {},
   "outputs": [
    {
     "data": {
      "text/html": [
       "<div>\n",
       "<style scoped>\n",
       "    .dataframe tbody tr th:only-of-type {\n",
       "        vertical-align: middle;\n",
       "    }\n",
       "\n",
       "    .dataframe tbody tr th {\n",
       "        vertical-align: top;\n",
       "    }\n",
       "\n",
       "    .dataframe thead th {\n",
       "        text-align: right;\n",
       "    }\n",
       "</style>\n",
       "<table border=\"1\" class=\"dataframe\">\n",
       "  <thead>\n",
       "    <tr style=\"text-align: right;\">\n",
       "      <th></th>\n",
       "      <th>day</th>\n",
       "      <th>temperature</th>\n",
       "      <th>windspeed</th>\n",
       "      <th>event</th>\n",
       "    </tr>\n",
       "  </thead>\n",
       "  <tbody>\n",
       "    <tr>\n",
       "      <th>0</th>\n",
       "      <td>1/1/2017</td>\n",
       "      <td>32</td>\n",
       "      <td>6</td>\n",
       "      <td>Rain</td>\n",
       "    </tr>\n",
       "    <tr>\n",
       "      <th>1</th>\n",
       "      <td>1/2/2017</td>\n",
       "      <td>35</td>\n",
       "      <td>7</td>\n",
       "      <td>Sunny</td>\n",
       "    </tr>\n",
       "    <tr>\n",
       "      <th>2</th>\n",
       "      <td>1/3/2017</td>\n",
       "      <td>28</td>\n",
       "      <td>2</td>\n",
       "      <td>Snow</td>\n",
       "    </tr>\n",
       "    <tr>\n",
       "      <th>3</th>\n",
       "      <td>1/4/2017</td>\n",
       "      <td>24</td>\n",
       "      <td>7</td>\n",
       "      <td>Snow</td>\n",
       "    </tr>\n",
       "    <tr>\n",
       "      <th>4</th>\n",
       "      <td>1/5/2017</td>\n",
       "      <td>32</td>\n",
       "      <td>4</td>\n",
       "      <td>Rain</td>\n",
       "    </tr>\n",
       "    <tr>\n",
       "      <th>5</th>\n",
       "      <td>1/6/2017</td>\n",
       "      <td>31</td>\n",
       "      <td>2</td>\n",
       "      <td>Sunny</td>\n",
       "    </tr>\n",
       "  </tbody>\n",
       "</table>\n",
       "</div>"
      ],
      "text/plain": [
       "        day  temperature  windspeed  event\n",
       "0  1/1/2017           32          6   Rain\n",
       "1  1/2/2017           35          7  Sunny\n",
       "2  1/3/2017           28          2   Snow\n",
       "3  1/4/2017           24          7   Snow\n",
       "4  1/5/2017           32          4   Rain\n",
       "5  1/6/2017           31          2  Sunny"
      ]
     },
     "execution_count": 5,
     "metadata": {},
     "output_type": "execute_result"
    }
   ],
   "source": [
    "day = ['1/1/2017','1/2/2017','1/3/2017','1/4/2017','1/5/2017','1/6/2017']\n",
    "temperature = [32,35,28,24,32,31]\n",
    "windspeed = [6,7,2,7,4,2]\n",
    "event = ['Rain','Sunny','Snow','Snow','Rain','Sunny']\n",
    "\n",
    "dictionary = pd.DataFrame({'day':day, 'temperature': temperature, 'windspeed': windspeed, 'event':event})\n",
    "dictionary"
   ]
  },
  {
   "cell_type": "markdown",
   "id": "2ae1692c-dcc4-440d-8d56-d9d1b23efc42",
   "metadata": {},
   "source": [
    "#### (Q4) In extension to above question, you are required to replace index by ['a','b','c','d','e','f']"
   ]
  },
  {
   "cell_type": "code",
   "execution_count": 6,
   "id": "93bcca17-1a9c-4195-baac-5af8feda92d6",
   "metadata": {},
   "outputs": [
    {
     "data": {
      "text/html": [
       "<div>\n",
       "<style scoped>\n",
       "    .dataframe tbody tr th:only-of-type {\n",
       "        vertical-align: middle;\n",
       "    }\n",
       "\n",
       "    .dataframe tbody tr th {\n",
       "        vertical-align: top;\n",
       "    }\n",
       "\n",
       "    .dataframe thead th {\n",
       "        text-align: right;\n",
       "    }\n",
       "</style>\n",
       "<table border=\"1\" class=\"dataframe\">\n",
       "  <thead>\n",
       "    <tr style=\"text-align: right;\">\n",
       "      <th></th>\n",
       "      <th>day</th>\n",
       "      <th>temperature</th>\n",
       "      <th>windspeed</th>\n",
       "      <th>event</th>\n",
       "    </tr>\n",
       "  </thead>\n",
       "  <tbody>\n",
       "    <tr>\n",
       "      <th>a</th>\n",
       "      <td>1/1/2017</td>\n",
       "      <td>32</td>\n",
       "      <td>6</td>\n",
       "      <td>Rain</td>\n",
       "    </tr>\n",
       "    <tr>\n",
       "      <th>b</th>\n",
       "      <td>1/2/2017</td>\n",
       "      <td>35</td>\n",
       "      <td>7</td>\n",
       "      <td>Sunny</td>\n",
       "    </tr>\n",
       "    <tr>\n",
       "      <th>c</th>\n",
       "      <td>1/3/2017</td>\n",
       "      <td>28</td>\n",
       "      <td>2</td>\n",
       "      <td>Snow</td>\n",
       "    </tr>\n",
       "    <tr>\n",
       "      <th>d</th>\n",
       "      <td>1/4/2017</td>\n",
       "      <td>24</td>\n",
       "      <td>7</td>\n",
       "      <td>Snow</td>\n",
       "    </tr>\n",
       "    <tr>\n",
       "      <th>e</th>\n",
       "      <td>1/5/2017</td>\n",
       "      <td>32</td>\n",
       "      <td>4</td>\n",
       "      <td>Rain</td>\n",
       "    </tr>\n",
       "    <tr>\n",
       "      <th>f</th>\n",
       "      <td>1/6/2017</td>\n",
       "      <td>31</td>\n",
       "      <td>2</td>\n",
       "      <td>Sunny</td>\n",
       "    </tr>\n",
       "  </tbody>\n",
       "</table>\n",
       "</div>"
      ],
      "text/plain": [
       "        day  temperature  windspeed  event\n",
       "a  1/1/2017           32          6   Rain\n",
       "b  1/2/2017           35          7  Sunny\n",
       "c  1/3/2017           28          2   Snow\n",
       "d  1/4/2017           24          7   Snow\n",
       "e  1/5/2017           32          4   Rain\n",
       "f  1/6/2017           31          2  Sunny"
      ]
     },
     "execution_count": 6,
     "metadata": {},
     "output_type": "execute_result"
    }
   ],
   "source": [
    "newDictionary = pd.DataFrame({'day': day, 'temperature': temperature, 'windspeed': windspeed, 'event': event}, index=['a','b','c','d','e','f'])\n",
    "newDictionary"
   ]
  },
  {
   "cell_type": "markdown",
   "id": "fd48f9fd-693c-4df4-9242-0c6bc41c046f",
   "metadata": {},
   "source": [
    "#### (Q5) In extension to above Q.3, calculate mean, miximum and minimum for label “temperature\""
   ]
  },
  {
   "cell_type": "code",
   "execution_count": 7,
   "id": "70cec15b-04c1-432c-8165-7af2110832cf",
   "metadata": {},
   "outputs": [
    {
     "name": "stdout",
     "output_type": "stream",
     "text": [
      "The Mean for 'temperature' is: 30.33\n",
      "The Max for 'temperature' is: 35\n",
      "The Min for 'temperature' is: 24\n"
     ]
    }
   ],
   "source": [
    "# As the dictionary in Q3 is named 'dictionary', so we can access it here as such.\n",
    "dictionaryMean = dictionary['temperature'].mean()\n",
    "dictionaryMax = dictionary['temperature'].max()\n",
    "dictionaryMin = dictionary['temperature'].min()\n",
    "print(f\"The Mean for 'temperature' is: {round(dictionaryMean,2)}\\nThe Max for 'temperature' is: {dictionaryMax}\\nThe Min for 'temperature' is: {dictionaryMin}\")"
   ]
  },
  {
   "cell_type": "markdown",
   "id": "f74a1b96-8171-4fc6-843a-3b0353ee60cf",
   "metadata": {},
   "source": [
    "#### (Q6)  Import CSV ‘people.csv’ in the given folder. Keep in mind the following instructions:\n",
    "##### 6.1- You’re required to import only specific columns [\"First Name\", \"Sex\", \"Email\", “Phone”, “Job Title”]\n",
    "##### 6.2- Set the following columns [\"Sex\", \"Job Title\"] as index columns\n",
    "##### 6.3- Skip following rows [1,5]\n",
    "##### 6.4- Export the CSV as “NewPeople.csv”"
   ]
  },
  {
   "cell_type": "code",
   "execution_count": 8,
   "id": "76caeefd-d292-4c12-b6de-60236e761664",
   "metadata": {},
   "outputs": [
    {
     "name": "stdout",
     "output_type": "stream",
     "text": [
      "   First Name     Sex                       Email                   Phone  \\\n",
      "0      Shelby    Male        elijah57@example.net  001-084-906-7849x73518   \n",
      "1     Phillip  Female       bethany14@example.com       214.112.6044x4913   \n",
      "2    Kristine    Male       bthompson@example.com            277.609.7938   \n",
      "3     Yesenia    Male   kaitlinkaiser@example.com            584.094.6111   \n",
      "4        Lori    Male  buchananmanuel@example.net       689-207-3558x7233   \n",
      "..        ...     ...                         ...                     ...   \n",
      "95     Dennis  Female         bmartin@example.org    001-095-524-2112x257   \n",
      "96      Steve  Female       latasha46@example.net        001-865-478-5157   \n",
      "97     Wesley    Male        regina11@example.org      995-542-3004x76800   \n",
      "98     Summer  Female  alexiscantrell@example.org    001-273-685-6932x092   \n",
      "99     Mariah    Male       pcopeland@example.org     (341)594-6554x44657   \n",
      "\n",
      "                Job Title  \n",
      "0         Games developer  \n",
      "1          Phytotherapist  \n",
      "2               Homeopath  \n",
      "3       Market researcher  \n",
      "4      Veterinary surgeon  \n",
      "..                    ...  \n",
      "95      Software engineer  \n",
      "96              Barrister  \n",
      "97         Police officer  \n",
      "98   Broadcast journalist  \n",
      "99  IT sales professional  \n",
      "\n",
      "[100 rows x 5 columns]\n"
     ]
    }
   ],
   "source": [
    "# (6.1) You’re required to import only specific columns [\"First Name\", \"Sex\", \"Email\", “Phone”, “Job Title”]\n",
    "df = pd.read_csv('people.csv', usecols=[\"First Name\", \"Sex\", \"Email\", \"Phone\", \"Job Title\"])\n",
    "print(df)"
   ]
  },
  {
   "cell_type": "code",
   "execution_count": 9,
   "id": "75798ec2-3448-4996-85df-65466edfea8b",
   "metadata": {},
   "outputs": [
    {
     "name": "stdout",
     "output_type": "stream",
     "text": [
      "                             First Name                       Email  \\\n",
      "Sex    Job Title                                                      \n",
      "Male   Games developer           Shelby        elijah57@example.net   \n",
      "Female Phytotherapist           Phillip       bethany14@example.com   \n",
      "Male   Homeopath               Kristine       bthompson@example.com   \n",
      "       Market researcher        Yesenia   kaitlinkaiser@example.com   \n",
      "       Veterinary surgeon          Lori  buchananmanuel@example.net   \n",
      "...                                 ...                         ...   \n",
      "Female Software engineer         Dennis         bmartin@example.org   \n",
      "       Barrister                  Steve       latasha46@example.net   \n",
      "Male   Police officer            Wesley        regina11@example.org   \n",
      "Female Broadcast journalist      Summer  alexiscantrell@example.org   \n",
      "Male   IT sales professional     Mariah       pcopeland@example.org   \n",
      "\n",
      "                                               Phone  \n",
      "Sex    Job Title                                      \n",
      "Male   Games developer        001-084-906-7849x73518  \n",
      "Female Phytotherapist              214.112.6044x4913  \n",
      "Male   Homeopath                        277.609.7938  \n",
      "       Market researcher                584.094.6111  \n",
      "       Veterinary surgeon          689-207-3558x7233  \n",
      "...                                              ...  \n",
      "Female Software engineer        001-095-524-2112x257  \n",
      "       Barrister                    001-865-478-5157  \n",
      "Male   Police officer             995-542-3004x76800  \n",
      "Female Broadcast journalist     001-273-685-6932x092  \n",
      "Male   IT sales professional     (341)594-6554x44657  \n",
      "\n",
      "[100 rows x 3 columns]\n"
     ]
    }
   ],
   "source": [
    "# (6.2) Set the following columns [\"Sex\", \"Job Title\"] as index columns\n",
    "df.set_index([\"Sex\", \"Job Title\"], inplace=True)\n",
    "print(df)"
   ]
  },
  {
   "cell_type": "code",
   "execution_count": 10,
   "id": "81610b31-7808-4607-ba4f-d035a360c2fa",
   "metadata": {},
   "outputs": [
    {
     "name": "stdout",
     "output_type": "stream",
     "text": [
      "   First Name     Sex                       Email                  Phone  \\\n",
      "0     Phillip  Female       bethany14@example.com      214.112.6044x4913   \n",
      "1    Kristine    Male       bthompson@example.com           277.609.7938   \n",
      "2     Yesenia    Male   kaitlinkaiser@example.com           584.094.6111   \n",
      "3        Erin    Male         tconner@example.org  001-171-649-9856x5553   \n",
      "4   Katherine  Female     conniecowan@example.com  +1-773-151-6685x49162   \n",
      "..        ...     ...                         ...                    ...   \n",
      "93     Dennis  Female         bmartin@example.org   001-095-524-2112x257   \n",
      "94      Steve  Female       latasha46@example.net       001-865-478-5157   \n",
      "95     Wesley    Male        regina11@example.org     995-542-3004x76800   \n",
      "96     Summer  Female  alexiscantrell@example.org   001-273-685-6932x092   \n",
      "97     Mariah    Male       pcopeland@example.org    (341)594-6554x44657   \n",
      "\n",
      "                   Job Title  \n",
      "0             Phytotherapist  \n",
      "1                  Homeopath  \n",
      "2          Market researcher  \n",
      "3   Waste management officer  \n",
      "4       Intelligence analyst  \n",
      "..                       ...  \n",
      "93         Software engineer  \n",
      "94                 Barrister  \n",
      "95            Police officer  \n",
      "96      Broadcast journalist  \n",
      "97     IT sales professional  \n",
      "\n",
      "[98 rows x 5 columns]\n"
     ]
    }
   ],
   "source": [
    "# (6.3) Skip following rows [1,5]\n",
    "df = pd.read_csv('people.csv', \n",
    "                 usecols=[\"First Name\", \"Sex\", \"Email\", \"Phone\", \"Job Title\"], \n",
    "                 skiprows=[1, 5])\n",
    "print(df)"
   ]
  },
  {
   "cell_type": "code",
   "execution_count": 11,
   "id": "922a0766-b0df-4f93-b28c-21fe4627dd98",
   "metadata": {},
   "outputs": [
    {
     "name": "stdout",
     "output_type": "stream",
     "text": [
      "NewPeople.csv has been exported successfully.\n"
     ]
    }
   ],
   "source": [
    "# (6.4) Export the CSV as “NewPeople.csv”\n",
    "df.to_csv('NewPeople.csv')\n",
    "print(\"NewPeople.csv has been exported successfully.\")"
   ]
  },
  {
   "cell_type": "markdown",
   "id": "6d6835e3-281e-4238-866c-c63c32d849c4",
   "metadata": {},
   "source": [
    "#### Q7 Import excel sheet ‘SampleWork.xlsx’ in the given folder. Keep in mind the following instructions:\n",
    "##### 7.1- Import sheet 1\n",
    "##### 7.2- Import only first and last column from sheet 1\n",
    "##### 7.3- Skip row 2 while importing the sheet\n",
    "##### 7.4- Set row 2 as header\n",
    "##### 7.5- Export as new sheet"
   ]
  },
  {
   "cell_type": "code",
   "execution_count": 12,
   "id": "59930bdb-a720-4c0f-b7cb-f0f471ee3d5a",
   "metadata": {},
   "outputs": [
    {
     "data": {
      "text/html": [
       "<div>\n",
       "<style scoped>\n",
       "    .dataframe tbody tr th:only-of-type {\n",
       "        vertical-align: middle;\n",
       "    }\n",
       "\n",
       "    .dataframe tbody tr th {\n",
       "        vertical-align: top;\n",
       "    }\n",
       "\n",
       "    .dataframe thead th {\n",
       "        text-align: right;\n",
       "    }\n",
       "</style>\n",
       "<table border=\"1\" class=\"dataframe\">\n",
       "  <thead>\n",
       "    <tr style=\"text-align: right;\">\n",
       "      <th></th>\n",
       "      <th>Name</th>\n",
       "      <th>Age</th>\n",
       "      <th>Stream</th>\n",
       "      <th>Percentage</th>\n",
       "    </tr>\n",
       "  </thead>\n",
       "  <tbody>\n",
       "    <tr>\n",
       "      <th>0</th>\n",
       "      <td>Amir</td>\n",
       "      <td>18</td>\n",
       "      <td>Math</td>\n",
       "      <td>95</td>\n",
       "    </tr>\n",
       "    <tr>\n",
       "      <th>1</th>\n",
       "      <td>Bilal</td>\n",
       "      <td>19</td>\n",
       "      <td>Science</td>\n",
       "      <td>90</td>\n",
       "    </tr>\n",
       "    <tr>\n",
       "      <th>2</th>\n",
       "      <td>Sufyan</td>\n",
       "      <td>20</td>\n",
       "      <td>Comerce</td>\n",
       "      <td>85</td>\n",
       "    </tr>\n",
       "    <tr>\n",
       "      <th>3</th>\n",
       "      <td>Saiqa</td>\n",
       "      <td>18</td>\n",
       "      <td>Math</td>\n",
       "      <td>80</td>\n",
       "    </tr>\n",
       "    <tr>\n",
       "      <th>4</th>\n",
       "      <td>Aimen</td>\n",
       "      <td>32</td>\n",
       "      <td>Science</td>\n",
       "      <td>75</td>\n",
       "    </tr>\n",
       "  </tbody>\n",
       "</table>\n",
       "</div>"
      ],
      "text/plain": [
       "     Name  Age   Stream  Percentage\n",
       "0    Amir   18     Math          95\n",
       "1   Bilal   19  Science          90\n",
       "2  Sufyan   20  Comerce          85\n",
       "3   Saiqa   18     Math          80\n",
       "4   Aimen   32  Science          75"
      ]
     },
     "execution_count": 12,
     "metadata": {},
     "output_type": "execute_result"
    }
   ],
   "source": [
    "# (7.1) Import sheet 1\n",
    "sheet = pd.read_excel('SampleWork.xlsx')\n",
    "sheet"
   ]
  },
  {
   "cell_type": "code",
   "execution_count": 14,
   "id": "738b246b-bc41-4766-a563-804001bf0669",
   "metadata": {
    "editable": true,
    "slideshow": {
     "slide_type": ""
    },
    "tags": []
   },
   "outputs": [
    {
     "data": {
      "text/html": [
       "<div>\n",
       "<style scoped>\n",
       "    .dataframe tbody tr th:only-of-type {\n",
       "        vertical-align: middle;\n",
       "    }\n",
       "\n",
       "    .dataframe tbody tr th {\n",
       "        vertical-align: top;\n",
       "    }\n",
       "\n",
       "    .dataframe thead th {\n",
       "        text-align: right;\n",
       "    }\n",
       "</style>\n",
       "<table border=\"1\" class=\"dataframe\">\n",
       "  <thead>\n",
       "    <tr style=\"text-align: right;\">\n",
       "      <th></th>\n",
       "      <th>Bilal</th>\n",
       "      <th>90</th>\n",
       "    </tr>\n",
       "  </thead>\n",
       "  <tbody>\n",
       "    <tr>\n",
       "      <th>0</th>\n",
       "      <td>Sufyan</td>\n",
       "      <td>85</td>\n",
       "    </tr>\n",
       "    <tr>\n",
       "      <th>1</th>\n",
       "      <td>Saiqa</td>\n",
       "      <td>80</td>\n",
       "    </tr>\n",
       "    <tr>\n",
       "      <th>2</th>\n",
       "      <td>Aimen</td>\n",
       "      <td>75</td>\n",
       "    </tr>\n",
       "  </tbody>\n",
       "</table>\n",
       "</div>"
      ],
      "text/plain": [
       "    Bilal  90\n",
       "0  Sufyan  85\n",
       "1   Saiqa  80\n",
       "2   Aimen  75"
      ]
     },
     "execution_count": 14,
     "metadata": {},
     "output_type": "execute_result"
    }
   ],
   "source": [
    "# (7.2) Import only first and last column from sheet 1\n",
    "# (7.3) Skip row 2 while importing the sheet\n",
    "# (7.4) Set row 2 as header\n",
    "\n",
    "sheet = pd.read_excel('SampleWork.xlsx', sheet_name=0, usecols=[0, 3], skiprows=[1], header = 1)\n",
    "sheet.to_excel(\"NewSheet.xlsx\")\n",
    "sheet"
   ]
  },
  {
   "attachments": {
    "e1ddd33c-1a77-4a01-831e-6d2f0a076e72.PNG": {
     "image/png": "[encoded data removed]"
    }
   },
   "cell_type": "markdown",
   "id": "01ce810f-e5f4-4368-a57e-8cbad432ab1f",
   "metadata": {},
   "source": [
    "#### (Q8)  Create the following dataframe as AICP_DF then implement different operations as described below:\n",
    "##### 8.1- Select 'Name', 'Qualification' coloumns and save to df1\n",
    "##### 8.2- Add a new column to AICP_DF “Height” with the following values: [5.1, 6.2, 5.1, 5.2,5.1]\n",
    "##### 8.3- Set column “Name” as the index column.\n",
    "##### 8.4- Retrieve row with index “Hifza”\n",
    "##### 8.5- Retrieve row with index 3\n",
    "##### 8.6- Drop row with index “Bilal\n",
    "![Task8.PNG](attachment:e1ddd33c-1a77-4a01-831e-6d2f0a076e72.PNG)"
   ]
  },
  {
   "cell_type": "code",
   "execution_count": 49,
   "id": "a37d9967-8dbf-474d-8a63-db1e01c141cb",
   "metadata": {},
   "outputs": [
    {
     "data": {
      "text/html": [
       "<div>\n",
       "<style scoped>\n",
       "    .dataframe tbody tr th:only-of-type {\n",
       "        vertical-align: middle;\n",
       "    }\n",
       "\n",
       "    .dataframe tbody tr th {\n",
       "        vertical-align: top;\n",
       "    }\n",
       "\n",
       "    .dataframe thead th {\n",
       "        text-align: right;\n",
       "    }\n",
       "</style>\n",
       "<table border=\"1\" class=\"dataframe\">\n",
       "  <thead>\n",
       "    <tr style=\"text-align: right;\">\n",
       "      <th></th>\n",
       "      <th>Name</th>\n",
       "      <th>Age</th>\n",
       "      <th>Address</th>\n",
       "      <th>Qualification</th>\n",
       "    </tr>\n",
       "  </thead>\n",
       "  <tbody>\n",
       "    <tr>\n",
       "      <th>0</th>\n",
       "      <td>Sonia</td>\n",
       "      <td>27</td>\n",
       "      <td>Lahore</td>\n",
       "      <td>Msc</td>\n",
       "    </tr>\n",
       "    <tr>\n",
       "      <th>1</th>\n",
       "      <td>Bilal</td>\n",
       "      <td>24</td>\n",
       "      <td>Karachi</td>\n",
       "      <td>MA</td>\n",
       "    </tr>\n",
       "    <tr>\n",
       "      <th>2</th>\n",
       "      <td>Hifza</td>\n",
       "      <td>22</td>\n",
       "      <td>Sialkot</td>\n",
       "      <td>MCA</td>\n",
       "    </tr>\n",
       "    <tr>\n",
       "      <th>3</th>\n",
       "      <td>Kabir</td>\n",
       "      <td>32</td>\n",
       "      <td>Peshawar</td>\n",
       "      <td>Phd</td>\n",
       "    </tr>\n",
       "    <tr>\n",
       "      <th>4</th>\n",
       "      <td>jazim</td>\n",
       "      <td>23</td>\n",
       "      <td>lhr</td>\n",
       "      <td>bsc</td>\n",
       "    </tr>\n",
       "  </tbody>\n",
       "</table>\n",
       "</div>"
      ],
      "text/plain": [
       "    Name  Age   Address Qualification\n",
       "0  Sonia   27    Lahore           Msc\n",
       "1  Bilal   24   Karachi            MA\n",
       "2  Hifza   22   Sialkot           MCA\n",
       "3  Kabir   32  Peshawar           Phd\n",
       "4  jazim   23       lhr           bsc"
      ]
     },
     "execution_count": 49,
     "metadata": {},
     "output_type": "execute_result"
    }
   ],
   "source": [
    "# Creating the 'AICP_DF'\n",
    "Name = ['Sonia','Bilal','Hifza','Kabir','jazim']\n",
    "Age = [27,24,22,32,23]\n",
    "Address = ['Lahore','Karachi','Sialkot','Peshawar','lhr']\n",
    "Qualification = ['Msc','MA','MCA','Phd','bsc']\n",
    "\n",
    "AICP_DF = pd.DataFrame({'Name':Name, 'Age': Age, 'Address': Address, 'Qualification':Qualification})\n",
    "AICP_DF"
   ]
  },
  {
   "cell_type": "code",
   "execution_count": 50,
   "id": "e7d12bbe-9ee7-4560-bdb6-7106aa6476f1",
   "metadata": {},
   "outputs": [
    {
     "data": {
      "text/html": [
       "<div>\n",
       "<style scoped>\n",
       "    .dataframe tbody tr th:only-of-type {\n",
       "        vertical-align: middle;\n",
       "    }\n",
       "\n",
       "    .dataframe tbody tr th {\n",
       "        vertical-align: top;\n",
       "    }\n",
       "\n",
       "    .dataframe thead th {\n",
       "        text-align: right;\n",
       "    }\n",
       "</style>\n",
       "<table border=\"1\" class=\"dataframe\">\n",
       "  <thead>\n",
       "    <tr style=\"text-align: right;\">\n",
       "      <th></th>\n",
       "      <th>Name</th>\n",
       "      <th>Qualification</th>\n",
       "    </tr>\n",
       "  </thead>\n",
       "  <tbody>\n",
       "    <tr>\n",
       "      <th>0</th>\n",
       "      <td>Sonia</td>\n",
       "      <td>Msc</td>\n",
       "    </tr>\n",
       "    <tr>\n",
       "      <th>1</th>\n",
       "      <td>Bilal</td>\n",
       "      <td>MA</td>\n",
       "    </tr>\n",
       "    <tr>\n",
       "      <th>2</th>\n",
       "      <td>Hifza</td>\n",
       "      <td>MCA</td>\n",
       "    </tr>\n",
       "    <tr>\n",
       "      <th>3</th>\n",
       "      <td>Kabir</td>\n",
       "      <td>Phd</td>\n",
       "    </tr>\n",
       "    <tr>\n",
       "      <th>4</th>\n",
       "      <td>jazim</td>\n",
       "      <td>bsc</td>\n",
       "    </tr>\n",
       "  </tbody>\n",
       "</table>\n",
       "</div>"
      ],
      "text/plain": [
       "    Name Qualification\n",
       "0  Sonia           Msc\n",
       "1  Bilal            MA\n",
       "2  Hifza           MCA\n",
       "3  Kabir           Phd\n",
       "4  jazim           bsc"
      ]
     },
     "execution_count": 50,
     "metadata": {},
     "output_type": "execute_result"
    }
   ],
   "source": [
    "# (8.1) Select 'Name', 'Qualification' coloumns and save to df1\n",
    "df1 = AICP_DF[['Name','Qualification']]\n",
    "df1"
   ]
  },
  {
   "cell_type": "code",
   "execution_count": 51,
   "id": "668e0e2e-835a-422e-b430-1cec8678e551",
   "metadata": {},
   "outputs": [
    {
     "data": {
      "text/html": [
       "<div>\n",
       "<style scoped>\n",
       "    .dataframe tbody tr th:only-of-type {\n",
       "        vertical-align: middle;\n",
       "    }\n",
       "\n",
       "    .dataframe tbody tr th {\n",
       "        vertical-align: top;\n",
       "    }\n",
       "\n",
       "    .dataframe thead th {\n",
       "        text-align: right;\n",
       "    }\n",
       "</style>\n",
       "<table border=\"1\" class=\"dataframe\">\n",
       "  <thead>\n",
       "    <tr style=\"text-align: right;\">\n",
       "      <th></th>\n",
       "      <th>Name</th>\n",
       "      <th>Age</th>\n",
       "      <th>Address</th>\n",
       "      <th>Qualification</th>\n",
       "      <th>Height</th>\n",
       "    </tr>\n",
       "  </thead>\n",
       "  <tbody>\n",
       "    <tr>\n",
       "      <th>0</th>\n",
       "      <td>Sonia</td>\n",
       "      <td>27</td>\n",
       "      <td>Lahore</td>\n",
       "      <td>Msc</td>\n",
       "      <td>5.1</td>\n",
       "    </tr>\n",
       "    <tr>\n",
       "      <th>1</th>\n",
       "      <td>Bilal</td>\n",
       "      <td>24</td>\n",
       "      <td>Karachi</td>\n",
       "      <td>MA</td>\n",
       "      <td>6.2</td>\n",
       "    </tr>\n",
       "    <tr>\n",
       "      <th>2</th>\n",
       "      <td>Hifza</td>\n",
       "      <td>22</td>\n",
       "      <td>Sialkot</td>\n",
       "      <td>MCA</td>\n",
       "      <td>5.1</td>\n",
       "    </tr>\n",
       "    <tr>\n",
       "      <th>3</th>\n",
       "      <td>Kabir</td>\n",
       "      <td>32</td>\n",
       "      <td>Peshawar</td>\n",
       "      <td>Phd</td>\n",
       "      <td>5.2</td>\n",
       "    </tr>\n",
       "    <tr>\n",
       "      <th>4</th>\n",
       "      <td>jazim</td>\n",
       "      <td>23</td>\n",
       "      <td>lhr</td>\n",
       "      <td>bsc</td>\n",
       "      <td>5.1</td>\n",
       "    </tr>\n",
       "  </tbody>\n",
       "</table>\n",
       "</div>"
      ],
      "text/plain": [
       "    Name  Age   Address Qualification  Height\n",
       "0  Sonia   27    Lahore           Msc     5.1\n",
       "1  Bilal   24   Karachi            MA     6.2\n",
       "2  Hifza   22   Sialkot           MCA     5.1\n",
       "3  Kabir   32  Peshawar           Phd     5.2\n",
       "4  jazim   23       lhr           bsc     5.1"
      ]
     },
     "execution_count": 51,
     "metadata": {},
     "output_type": "execute_result"
    }
   ],
   "source": [
    "# (8.2) Add a new column to AICP_DF “Height” with the following values: [5.1, 6.2, 5.1, 5.2,5.1]\n",
    "Height = [5.1, 6.2, 5.1, 5.2,5.1]\n",
    "AICP_DF['Height'] = Height\n",
    "AICP_DF"
   ]
  },
  {
   "cell_type": "code",
   "execution_count": 52,
   "id": "0bcc832c-838e-45ae-8c54-decd2b76cdc8",
   "metadata": {},
   "outputs": [
    {
     "data": {
      "text/html": [
       "<div>\n",
       "<style scoped>\n",
       "    .dataframe tbody tr th:only-of-type {\n",
       "        vertical-align: middle;\n",
       "    }\n",
       "\n",
       "    .dataframe tbody tr th {\n",
       "        vertical-align: top;\n",
       "    }\n",
       "\n",
       "    .dataframe thead th {\n",
       "        text-align: right;\n",
       "    }\n",
       "</style>\n",
       "<table border=\"1\" class=\"dataframe\">\n",
       "  <thead>\n",
       "    <tr style=\"text-align: right;\">\n",
       "      <th></th>\n",
       "      <th>Age</th>\n",
       "      <th>Address</th>\n",
       "      <th>Qualification</th>\n",
       "      <th>Height</th>\n",
       "    </tr>\n",
       "    <tr>\n",
       "      <th>Name</th>\n",
       "      <th></th>\n",
       "      <th></th>\n",
       "      <th></th>\n",
       "      <th></th>\n",
       "    </tr>\n",
       "  </thead>\n",
       "  <tbody>\n",
       "    <tr>\n",
       "      <th>Sonia</th>\n",
       "      <td>27</td>\n",
       "      <td>Lahore</td>\n",
       "      <td>Msc</td>\n",
       "      <td>5.1</td>\n",
       "    </tr>\n",
       "    <tr>\n",
       "      <th>Bilal</th>\n",
       "      <td>24</td>\n",
       "      <td>Karachi</td>\n",
       "      <td>MA</td>\n",
       "      <td>6.2</td>\n",
       "    </tr>\n",
       "    <tr>\n",
       "      <th>Hifza</th>\n",
       "      <td>22</td>\n",
       "      <td>Sialkot</td>\n",
       "      <td>MCA</td>\n",
       "      <td>5.1</td>\n",
       "    </tr>\n",
       "    <tr>\n",
       "      <th>Kabir</th>\n",
       "      <td>32</td>\n",
       "      <td>Peshawar</td>\n",
       "      <td>Phd</td>\n",
       "      <td>5.2</td>\n",
       "    </tr>\n",
       "    <tr>\n",
       "      <th>jazim</th>\n",
       "      <td>23</td>\n",
       "      <td>lhr</td>\n",
       "      <td>bsc</td>\n",
       "      <td>5.1</td>\n",
       "    </tr>\n",
       "  </tbody>\n",
       "</table>\n",
       "</div>"
      ],
      "text/plain": [
       "       Age   Address Qualification  Height\n",
       "Name                                      \n",
       "Sonia   27    Lahore           Msc     5.1\n",
       "Bilal   24   Karachi            MA     6.2\n",
       "Hifza   22   Sialkot           MCA     5.1\n",
       "Kabir   32  Peshawar           Phd     5.2\n",
       "jazim   23       lhr           bsc     5.1"
      ]
     },
     "execution_count": 52,
     "metadata": {},
     "output_type": "execute_result"
    }
   ],
   "source": [
    "# (8.3) Set column “Name” as the index column.\n",
    "AICP_DF.set_index('Name', inplace =True)\n",
    "AICP_DF"
   ]
  },
  {
   "cell_type": "code",
   "execution_count": 57,
   "id": "5beff007-362e-410a-a10f-1f7a11f7dfdb",
   "metadata": {},
   "outputs": [
    {
     "name": "stdout",
     "output_type": "stream",
     "text": [
      "Age                   22\n",
      "Address          Sialkot\n",
      "Qualification        MCA\n",
      "Height               5.1\n",
      "Name: Hifza, dtype: object\n"
     ]
    }
   ],
   "source": [
    "# (8.4) Retrieve row with index “Hifza”\n",
    "hifzaRow = AICP_DF.loc['Hifza']\n",
    "print(hifzaRow)"
   ]
  },
  {
   "cell_type": "code",
   "execution_count": 61,
   "id": "a6359a42-c08d-4b9f-9a89-be97ff7252ef",
   "metadata": {},
   "outputs": [
    {
     "name": "stdout",
     "output_type": "stream",
     "text": [
      "Age                    32\n",
      "Address          Peshawar\n",
      "Qualification         Phd\n",
      "Height                5.2\n",
      "Name: Kabir, dtype: object\n"
     ]
    }
   ],
   "source": [
    "# (8.5) Retrieve row with index 3\n",
    "index3 = AICP_DF.iloc[3]\n",
    "print(index3)"
   ]
  },
  {
   "cell_type": "code",
   "execution_count": 74,
   "id": "a40a93fc-9fe7-470f-8257-c51e51a40775",
   "metadata": {},
   "outputs": [
    {
     "data": {
      "text/plain": [
       "<bound method Series.drop of Age                   24\n",
       "Address          Karachi\n",
       "Qualification         MA\n",
       "Height               6.2\n",
       "Name: Bilal, dtype: object>"
      ]
     },
     "execution_count": 74,
     "metadata": {},
     "output_type": "execute_result"
    }
   ],
   "source": [
    "# (8.6) Drop row with index “Bilal\"\n",
    "AICP_DF.loc['Bilal']"
   ]
  }
 ],
 "metadata": {
  "kernelspec": {
   "display_name": "Python 3 (ipykernel)",
   "language": "python",
   "name": "python3"
  },
  "language_info": {
   "codemirror_mode": {
    "name": "ipython",
    "version": 3
   },
   "file_extension": ".py",
   "mimetype": "text/x-python",
   "name": "python",
   "nbconvert_exporter": "python",
   "pygments_lexer": "ipython3",
   "version": "3.12.1"
  }
 },
 "nbformat": 4,
 "nbformat_minor": 5
}
